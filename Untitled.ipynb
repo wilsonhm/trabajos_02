{
 "cells": [
  {
   "cell_type": "code",
   "execution_count": 2,
   "id": "c4cd424a-80e3-43f7-a72b-b7f0e5c72115",
   "metadata": {},
   "outputs": [
    {
     "name": "stdout",
     "output_type": "stream",
     "text": [
      "max: hola = 1\n"
     ]
    }
   ],
   "source": [
    "import re\n",
    "\n",
    "# remove any non-words and split lines into separate words\n",
    "# finally, convert all words to lowercase\n",
    "def splitter(line):\n",
    "    line = re.sub(r'^\\W+|\\W+$', '', line)\n",
    "    return map(str.lower, re.split(r'\\W+', line))\n",
    "    \n",
    "sums = {}\n",
    "try:\n",
    "    in_file = open('tarea.txt', 'r')\n",
    "\n",
    "    for line in in_file:\n",
    "        for word in splitter(line):\n",
    "            word = word.lower()\n",
    "            sums[word] = sums.get(word, 0) + 1\n",
    "                 \n",
    "    in_file.close()\n",
    "\n",
    "except IOError:\n",
    "    print(\"error performing file operation\")\n",
    "else:\n",
    "    M = max(sums.keys(), key=lambda k: sums[k])\n",
    "    print(\"max: %s = %d\" % (M, sums[M]))"
   ]
  },
  {
   "cell_type": "code",
   "execution_count": null,
   "id": "a7707a46-b986-4425-8148-d6ebca0e345e",
   "metadata": {},
   "outputs": [],
   "source": []
  },
  {
   "cell_type": "code",
   "execution_count": null,
   "id": "aa327fd3-71eb-4408-8a8f-aa91dd754467",
   "metadata": {},
   "outputs": [],
   "source": []
  },
  {
   "cell_type": "code",
   "execution_count": null,
   "id": "c2c073d9-091e-4e49-b710-1629569c848c",
   "metadata": {},
   "outputs": [],
   "source": []
  }
 ],
 "metadata": {
  "kernelspec": {
   "display_name": "Python 3 (ipykernel)",
   "language": "python",
   "name": "python3"
  },
  "language_info": {
   "codemirror_mode": {
    "name": "ipython",
    "version": 3
   },
   "file_extension": ".py",
   "mimetype": "text/x-python",
   "name": "python",
   "nbconvert_exporter": "python",
   "pygments_lexer": "ipython3",
   "version": "3.10.6"
  }
 },
 "nbformat": 4,
 "nbformat_minor": 5
}
